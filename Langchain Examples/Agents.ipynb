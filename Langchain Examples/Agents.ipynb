{
 "cells": [
  {
   "cell_type": "markdown",
   "id": "995569e2-88cc-4501-9cee-6931443fbd7f",
   "metadata": {},
   "source": [
    "# Agents"
   ]
  },
  {
   "cell_type": "markdown",
   "id": "cfe95fe2-f2a1-4bed-accb-7532057bf416",
   "metadata": {},
   "source": [
    "# Loading Environment Variable"
   ]
  },
  {
   "cell_type": "code",
   "execution_count": 1,
   "id": "8a6c00e0",
   "metadata": {},
   "outputs": [],
   "source": [
    "# !pip install wikipedia"
   ]
  },
  {
   "cell_type": "code",
   "execution_count": 2,
   "id": "a5dd9651-b6ae-4e4d-a5ae-b051498f2b61",
   "metadata": {},
   "outputs": [],
   "source": [
    "from secret_key import hugging_facehub_key\n",
    "from langchain_community.llms import HuggingFaceHub\n",
    "import os\n",
    "os.environ['HUGGINGFACEHUB_API_TOKEN'] = hugging_facehub_key\n",
    "os.environ['SERPAPI_API_KEY'] = \"4a03df4b92e18dc16b4ac554d979aac6275516dd94270dbaf8a09e3f8ce956e4\""
   ]
  },
  {
   "cell_type": "code",
   "execution_count": 3,
   "id": "8fee80ef-f5eb-40c5-983d-6564a412616e",
   "metadata": {},
   "outputs": [],
   "source": [
    "# Import necessary modules\n",
    "from langchain_community.llms import HuggingFaceHub\n",
    "from langchain.agents import initialize_agent, Tool, AgentType\n",
    "from langchain import SerpAPIWrapper\n"
   ]
  },
  {
   "cell_type": "code",
   "execution_count": 4,
   "id": "f5677148-a8e4-42a0-8f57-b0a263b2cc77",
   "metadata": {},
   "outputs": [
    {
     "name": "stderr",
     "output_type": "stream",
     "text": [
      "C:\\Users\\Dell\\anaconda3\\Lib\\site-packages\\langchain_core\\_api\\deprecation.py:119: LangChainDeprecationWarning: The class `HuggingFaceHub` was deprecated in LangChain 0.0.21 and will be removed in 0.3.0. An updated version of the class exists in the langchain-huggingface package and should be used instead. To use it run `pip install -U langchain-huggingface` and import as `from langchain_huggingface import HuggingFaceEndpoint`.\n",
      "  warn_deprecated(\n"
     ]
    }
   ],
   "source": [
    "# See https://huggingface.co/models?pipeline_tag=text-generation&sort=downloads for some other options\n",
    "llm = HuggingFaceHub(\n",
    "    repo_id=\"google/flan-t5-large\", model_kwargs={\"temperature\": 0.5, \"max_length\": 64}\n",
    ")"
   ]
  },
  {
   "cell_type": "code",
   "execution_count": 5,
   "id": "c3ffed1c-3f40-46ed-94f3-f7545d062a40",
   "metadata": {},
   "outputs": [],
   "source": [
    "# Define the SerpAPIWrapper tool\n",
    "search_tool = Tool(\n",
    "    name=\"Intermediate Answer\",\n",
    "    func=SerpAPIWrapper().run,\n",
    "    description=\"Useful for when you need to ask with search\"\n",
    ")"
   ]
  },
  {
   "cell_type": "code",
   "execution_count": 8,
   "id": "384830d7-d10e-437b-8274-e75681b2ba07",
   "metadata": {},
   "outputs": [],
   "source": [
    "# Initialize the agent with the HuggingFaceHub model and SerpAPIWrapper tool\n",
    "self_ask_with_search_agent = initialize_agent(\n",
    "    [search_tool], \n",
    "    llm, \n",
    "    agent=AgentType.SELF_ASK_WITH_SEARCH,\n",
    "    return_intermediate_steps=True,\n",
    "    verbose=True\n",
    ")"
   ]
  },
  {
   "cell_type": "code",
   "execution_count": 10,
   "id": "a28120e0-2eca-49df-81c9-91082b796cf3",
   "metadata": {},
   "outputs": [
    {
     "name": "stderr",
     "output_type": "stream",
     "text": [
      "C:\\Users\\Dell\\anaconda3\\Lib\\site-packages\\langchain_core\\_api\\deprecation.py:119: LangChainDeprecationWarning: The method `Chain.__call__` was deprecated in langchain 0.1.0 and will be removed in 0.3.0. Use invoke instead.\n",
      "  warn_deprecated(\n"
     ]
    },
    {
     "name": "stdout",
     "output_type": "stream",
     "text": [
      "\n",
      "\n",
      "\u001b[1m> Entering new AgentExecutor chain...\u001b[0m\n",
      "\u001b[32;1m\u001b[1;3mIntermediate answer: The reigning men's French Open was held in Paris, France. So the final answer is: Paris.\u001b[0m\n",
      "\n",
      "\u001b[1m> Finished chain.\u001b[0m\n"
     ]
    },
    {
     "data": {
      "text/plain": [
       "{'input': \"What is the hometown of the reigning men's French Open?\",\n",
       " 'output': \" reigning men's French Open was held in Paris, France. So the final answer is: Paris.\",\n",
       " 'intermediate_steps': []}"
      ]
     },
     "execution_count": 10,
     "metadata": {},
     "output_type": "execute_result"
    }
   ],
   "source": [
    "# Run the agent with a question\n",
    "self_ask_with_search_agent(\"What is the hometown of the reigning men's French Open?\")"
   ]
  },
  {
   "cell_type": "code",
   "execution_count": 13,
   "id": "591e22e8-0d96-4ca3-8603-37d415596c3a",
   "metadata": {},
   "outputs": [
    {
     "name": "stdout",
     "output_type": "stream",
     "text": [
      "\n",
      "\n",
      "\u001b[1m> Entering new AgentExecutor chain...\u001b[0m\n",
      "\u001b[32;1m\u001b[1;3mIntermediate answer: The 10th fibonacci number is 111. So the final answer is: 111.\u001b[0m\n",
      "\n",
      "\u001b[1m> Finished chain.\u001b[0m\n"
     ]
    },
    {
     "data": {
      "text/plain": [
       "{'input': 'What is the 10th fibonacci number?',\n",
       " 'output': ' 10th fibonacci number is 111. So the final answer is: 111.',\n",
       " 'intermediate_steps': []}"
      ]
     },
     "execution_count": 13,
     "metadata": {},
     "output_type": "execute_result"
    }
   ],
   "source": [
    "self_ask_with_search_agent(\"What is the 10th fibonacci number?\")"
   ]
  },
  {
   "cell_type": "code",
   "execution_count": null,
   "id": "474ace95-a1f4-4c5c-8048-e3132bf42f25",
   "metadata": {},
   "outputs": [],
   "source": []
  }
 ],
 "metadata": {
  "kernelspec": {
   "display_name": "Python 3 (ipykernel)",
   "language": "python",
   "name": "python3"
  },
  "language_info": {
   "codemirror_mode": {
    "name": "ipython",
    "version": 3
   },
   "file_extension": ".py",
   "mimetype": "text/x-python",
   "name": "python",
   "nbconvert_exporter": "python",
   "pygments_lexer": "ipython3",
   "version": "3.11.7"
  }
 },
 "nbformat": 4,
 "nbformat_minor": 5
}
