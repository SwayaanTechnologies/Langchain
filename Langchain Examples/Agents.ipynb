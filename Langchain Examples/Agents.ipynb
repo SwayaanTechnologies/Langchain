{
 "cells": [
  {
   "cell_type": "markdown",
   "id": "995569e2-88cc-4501-9cee-6931443fbd7f",
   "metadata": {},
   "source": [
    "# Agents"
   ]
  },
  {
   "cell_type": "markdown",
   "id": "cfe95fe2-f2a1-4bed-accb-7532057bf416",
   "metadata": {},
   "source": [
    "# Loading Environment Variable"
   ]
  },
  {
   "cell_type": "code",
   "execution_count": 1,
   "id": "8a6c00e0",
   "metadata": {},
   "outputs": [],
   "source": [
    "# !pip install wikipedia"
   ]
  },
  {
   "cell_type": "code",
   "execution_count": 1,
   "id": "a5dd9651-b6ae-4e4d-a5ae-b051498f2b61",
   "metadata": {},
   "outputs": [],
   "source": [
    "from secret_key import hugging_facehub_key\n",
    "from langchain_community.llms import HuggingFaceHub\n",
    "import os\n",
    "os.environ['HUGGINGFACEHUB_API_TOKEN'] = hugging_facehub_key\n",
    "os.environ['SERPAPI_API_KEY'] = \"4a03df4b92e18dc16b4ac554d979aac6275516dd94270dbaf8a09e3f8ce956e4\""
   ]
  },
  {
   "cell_type": "code",
   "execution_count": 3,
   "id": "8fee80ef-f5eb-40c5-983d-6564a412616e",
   "metadata": {},
   "outputs": [
    {
     "name": "stderr",
     "output_type": "stream",
     "text": [
      "C:\\Users\\Dell\\anaconda3\\Lib\\site-packages\\langchain_core\\_api\\deprecation.py:119: LangChainDeprecationWarning: The class `HuggingFaceHub` was deprecated in LangChain 0.0.21 and will be removed in 0.3.0. An updated version of the class exists in the langchain-huggingface package and should be used instead. To use it run `pip install -U langchain-huggingface` and import as `from langchain_huggingface import HuggingFaceEndpoint`.\n",
      "  warn_deprecated(\n",
      "C:\\Users\\Dell\\anaconda3\\Lib\\site-packages\\langchain_core\\_api\\deprecation.py:119: LangChainDeprecationWarning: The function `initialize_agent` was deprecated in LangChain 0.1.0 and will be removed in 0.3.0. Use Use new agent constructor methods like create_react_agent, create_json_agent, create_structured_chat_agent, etc. instead.\n",
      "  warn_deprecated(\n",
      "C:\\Users\\Dell\\anaconda3\\Lib\\site-packages\\langchain_core\\_api\\deprecation.py:119: LangChainDeprecationWarning: The method `Chain.run` was deprecated in langchain 0.1.0 and will be removed in 0.3.0. Use invoke instead.\n",
      "  warn_deprecated(\n"
     ]
    },
    {
     "name": "stdout",
     "output_type": "stream",
     "text": [
      "\n",
      "\n",
      "\u001b[1m> Entering new AgentExecutor chain...\u001b[0m\n",
      "\u001b[32;1m\u001b[1;3mIntermediate answer: The reigning men's French Open was held in Paris, France. So the final answer is: Paris.\u001b[0m\n",
      "\n",
      "\u001b[1m> Finished chain.\u001b[0m\n"
     ]
    },
    {
     "data": {
      "text/plain": [
       "\" reigning men's French Open was held in Paris, France. So the final answer is: Paris.\""
      ]
     },
     "execution_count": 3,
     "metadata": {},
     "output_type": "execute_result"
    }
   ],
   "source": [
    "# Import necessary modules\n",
    "from langchain_community.llms import HuggingFaceHub\n",
    "from langchain.agents import initialize_agent, Tool, AgentType\n",
    "from langchain import SerpAPIWrapper\n",
    "\n",
    "# See https://huggingface.co/models?pipeline_tag=text-generation&sort=downloads for some other options\n",
    "\n",
    "llm = HuggingFaceHub(\n",
    "    repo_id=\"google/flan-t5-large\", model_kwargs={\"temperature\": 0.5, \"max_length\": 64}\n",
    ")\n",
    "\n",
    "# Define the SerpAPIWrapper tool\n",
    "search_tool = Tool(\n",
    "    name=\"Intermediate Answer\",\n",
    "    func=SerpAPIWrapper().run,\n",
    "    description=\"Useful for when you need to ask with search\"\n",
    ")\n",
    "\n",
    "# Initialize the agent with the HuggingFaceHub model and SerpAPIWrapper tool\n",
    "self_ask_with_search_agent = initialize_agent(\n",
    "    [search_tool], \n",
    "    llm, \n",
    "    agent=AgentType.SELF_ASK_WITH_SEARCH, \n",
    "    verbose=True\n",
    ")\n",
    "\n",
    "# Run the agent with a question\n",
    "self_ask_with_search_agent.run(\"What is the hometown of the reigning men's French Open?\")"
   ]
  },
  {
   "cell_type": "code",
   "execution_count": null,
   "id": "f5677148-a8e4-42a0-8f57-b0a263b2cc77",
   "metadata": {},
   "outputs": [],
   "source": []
  }
 ],
 "metadata": {
  "kernelspec": {
   "display_name": "Python 3 (ipykernel)",
   "language": "python",
   "name": "python3"
  },
  "language_info": {
   "codemirror_mode": {
    "name": "ipython",
    "version": 3
   },
   "file_extension": ".py",
   "mimetype": "text/x-python",
   "name": "python",
   "nbconvert_exporter": "python",
   "pygments_lexer": "ipython3",
   "version": "3.11.7"
  }
 },
 "nbformat": 4,
 "nbformat_minor": 5
}
