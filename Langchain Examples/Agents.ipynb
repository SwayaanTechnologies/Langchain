{
 "cells": [
  {
   "cell_type": "markdown",
   "id": "995569e2-88cc-4501-9cee-6931443fbd7f",
   "metadata": {},
   "source": [
    "# Agents"
   ]
  },
  {
   "cell_type": "markdown",
   "id": "cfe95fe2-f2a1-4bed-accb-7532057bf416",
   "metadata": {},
   "source": [
    "# Loading Environment Variable"
   ]
  },
  {
   "cell_type": "code",
   "execution_count": 32,
   "id": "8a6c00e0",
   "metadata": {},
   "outputs": [
    {
     "name": "stdout",
     "output_type": "stream",
     "text": [
      "Requirement already satisfied: google-search-results in c:\\users\\dell\\anaconda3\\lib\\site-packages (2.4.2)\n",
      "Requirement already satisfied: requests in c:\\users\\dell\\anaconda3\\lib\\site-packages (from google-search-results) (2.31.0)\n",
      "Requirement already satisfied: charset-normalizer<4,>=2 in c:\\users\\dell\\anaconda3\\lib\\site-packages (from requests->google-search-results) (3.3.2)\n",
      "Requirement already satisfied: idna<4,>=2.5 in c:\\users\\dell\\anaconda3\\lib\\site-packages (from requests->google-search-results) (3.4)\n",
      "Requirement already satisfied: urllib3<3,>=1.21.1 in c:\\users\\dell\\anaconda3\\lib\\site-packages (from requests->google-search-results) (2.1.0)\n",
      "Requirement already satisfied: certifi>=2017.4.17 in c:\\users\\dell\\anaconda3\\lib\\site-packages (from requests->google-search-results) (2023.11.17)\n"
     ]
    }
   ],
   "source": [
    "# ! pip install google-search-results"
   ]
  },
  {
   "cell_type": "code",
   "execution_count": 33,
   "id": "a5dd9651-b6ae-4e4d-a5ae-b051498f2b61",
   "metadata": {},
   "outputs": [],
   "source": [
    "from secret_key import hugging_facehub_key\n",
    "from langchain_community.llms import HuggingFaceHub\n",
    "import os\n",
    "os.environ['HUGGINGFACEHUB_API_TOKEN'] = hugging_facehub_key\n",
    "os.environ['SERPAPI_API_KEY'] = \"4a03df4b92e18dc16b4ac554d979aac6275516dd94270dbaf8a09e3f8ce956e4\""
   ]
  },
  {
   "cell_type": "code",
   "execution_count": 34,
   "id": "8fee80ef-f5eb-40c5-983d-6564a412616e",
   "metadata": {},
   "outputs": [],
   "source": [
    "# Import necessary modules\n",
    "from langchain_community.llms import HuggingFaceHub\n",
    "from langchain.agents import initialize_agent, Tool, AgentType\n",
    "from langchain import SerpAPIWrapper\n"
   ]
  },
  {
   "cell_type": "code",
   "execution_count": 35,
   "id": "f5677148-a8e4-42a0-8f57-b0a263b2cc77",
   "metadata": {},
   "outputs": [],
   "source": [
    "# See https://huggingface.co/models?pipeline_tag=text-generation&sort=downloads for some other options\n",
    "llm = HuggingFaceHub(\n",
    "    repo_id=\"google/flan-t5-large\", model_kwargs={\"temperature\": 0.5, \"max_length\": 64}\n",
    ")"
   ]
  },
  {
   "cell_type": "code",
   "execution_count": 36,
   "id": "c3ffed1c-3f40-46ed-94f3-f7545d062a40",
   "metadata": {},
   "outputs": [],
   "source": [
    "# Define the SerpAPIWrapper tool\n",
    "search_tool = Tool(\n",
    "    name=\"Intermediate Answer\",\n",
    "    func=SerpAPIWrapper().run,\n",
    "    description=\"Useful for when you need to ask with search\"\n",
    ")"
   ]
  },
  {
   "cell_type": "code",
   "execution_count": 37,
   "id": "384830d7-d10e-437b-8274-e75681b2ba07",
   "metadata": {},
   "outputs": [],
   "source": [
    "# Initialize the agent with the HuggingFaceHub model and SerpAPIWrapper tool\n",
    "self_ask_with_search_agent = initialize_agent(\n",
    "    [search_tool], \n",
    "    llm, \n",
    "    agent=AgentType.SELF_ASK_WITH_SEARCH,\n",
    "    return_intermediate_steps=True,\n",
    "    verbose=True\n",
    ")"
   ]
  },
  {
   "cell_type": "code",
   "execution_count": 38,
   "id": "a28120e0-2eca-49df-81c9-91082b796cf3",
   "metadata": {},
   "outputs": [
    {
     "name": "stdout",
     "output_type": "stream",
     "text": [
      "\n",
      "\n",
      "\u001b[1m> Entering new AgentExecutor chain...\u001b[0m\n",
      "\u001b[32;1m\u001b[1;3mIntermediate answer: The reigning men's French Open was held in Paris, France. So the final answer is: Paris.\u001b[0m\n",
      "\n",
      "\u001b[1m> Finished chain.\u001b[0m\n"
     ]
    },
    {
     "data": {
      "text/plain": [
       "{'input': \"What is the hometown of the reigning men's French Open?\",\n",
       " 'output': \" reigning men's French Open was held in Paris, France. So the final answer is: Paris.\",\n",
       " 'intermediate_steps': []}"
      ]
     },
     "execution_count": 38,
     "metadata": {},
     "output_type": "execute_result"
    }
   ],
   "source": [
    "# Run the agent with a question\n",
    "self_ask_with_search_agent(\"What is the hometown of the reigning men's French Open?\")"
   ]
  },
  {
   "cell_type": "code",
   "execution_count": 39,
   "id": "591e22e8-0d96-4ca3-8603-37d415596c3a",
   "metadata": {},
   "outputs": [
    {
     "name": "stdout",
     "output_type": "stream",
     "text": [
      "\n",
      "\n",
      "\u001b[1m> Entering new AgentExecutor chain...\u001b[0m\n",
      "\u001b[32;1m\u001b[1;3mIntermediate answer: The 10th fibonacci number is 111. So the final answer is: 111.\u001b[0m\n",
      "\n",
      "\u001b[1m> Finished chain.\u001b[0m\n"
     ]
    },
    {
     "data": {
      "text/plain": [
       "{'input': 'What is the 10th fibonacci number?',\n",
       " 'output': ' 10th fibonacci number is 111. So the final answer is: 111.',\n",
       " 'intermediate_steps': []}"
      ]
     },
     "execution_count": 39,
     "metadata": {},
     "output_type": "execute_result"
    }
   ],
   "source": [
    "self_ask_with_search_agent(\"What is the 10th fibonacci number?\")"
   ]
  },
  {
   "cell_type": "code",
   "execution_count": null,
   "id": "d121c436-a4e4-421d-8c30-eb24454761f7",
   "metadata": {},
   "outputs": [],
   "source": []
  }
 ],
 "metadata": {
  "kernelspec": {
   "display_name": "Python 3 (ipykernel)",
   "language": "python",
   "name": "python3"
  },
  "language_info": {
   "codemirror_mode": {
    "name": "ipython",
    "version": 3
   },
   "file_extension": ".py",
   "mimetype": "text/x-python",
   "name": "python",
   "nbconvert_exporter": "python",
   "pygments_lexer": "ipython3",
   "version": "3.11.7"
  }
 },
 "nbformat": 4,
 "nbformat_minor": 5
}
