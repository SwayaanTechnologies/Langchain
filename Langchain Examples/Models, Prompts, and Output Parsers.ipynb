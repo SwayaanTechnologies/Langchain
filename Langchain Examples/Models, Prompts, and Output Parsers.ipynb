{
 "cells": [
  {
   "cell_type": "markdown",
   "id": "408d4c77-0a9c-401c-a031-ac83b698a4ee",
   "metadata": {},
   "source": [
    "# Loading Environment Variable"
   ]
  },
  {
   "cell_type": "code",
   "execution_count": 29,
   "id": "e125a44f-915c-43f0-9984-9a1d8cdb0567",
   "metadata": {},
   "outputs": [],
   "source": [
    "from secret_key import hugging_facehub_key\n",
    "import os\n",
    "os.environ['HUGGINGFACEHUB_API_TOKEN'] = hugging_facehub_key"
   ]
  },
  {
   "cell_type": "markdown",
   "id": "15485dce-0704-489b-9a9c-3040d50abd65",
   "metadata": {},
   "source": [
    "# Model"
   ]
  },
  {
   "cell_type": "code",
   "execution_count": 30,
   "id": "df2d88a7-2556-4563-a501-985e2afb6df2",
   "metadata": {},
   "outputs": [
    {
     "name": "stderr",
     "output_type": "stream",
     "text": [
      "C:\\Users\\Dell\\anaconda3\\Lib\\site-packages\\huggingface_hub\\utils\\_deprecation.py:131: FutureWarning: 'InferenceApi' (from 'huggingface_hub.inference_api') is deprecated and will be removed from version '1.0'. `InferenceApi` client is deprecated in favor of the more feature-complete `InferenceClient`. Check out this guide to learn how to convert your script to use it: https://huggingface.co/docs/huggingface_hub/guides/inference#legacy-inferenceapi-client.\n",
      "  warnings.warn(warning_message, FutureWarning)\n"
     ]
    }
   ],
   "source": [
    "from langchain import HuggingFaceHub\n",
    "# Define LLM\n",
    "repo_id = \"google/flan-t5-large\"  # See https://huggingface.co/models?pipeline_tag=text-generation&sort=downloads for some other options\n",
    "\n",
    "llm = HuggingFaceHub(\n",
    "    repo_id=repo_id, model_kwargs={\"temperature\": 0.5, \"max_length\": 64}\n",
    ")"
   ]
  },
  {
   "cell_type": "markdown",
   "id": "dafdbe44-370d-4731-8ef6-cbe7dd251d79",
   "metadata": {},
   "source": [
    "# Prompts"
   ]
  },
  {
   "cell_type": "code",
   "execution_count": 35,
   "id": "85fa5ae5-54f1-4a87-b235-be4a36da6599",
   "metadata": {},
   "outputs": [],
   "source": [
    "# Prompts\n",
    "customer_email = \"\"\"\n",
    "Arrr, I be fuming that me blender lid \n",
    "flew off and splattered me kitchen walls \n",
    "with smoothie! And to make matters worse, \n",
    "the warranty don't cover the cost of \n",
    "cleaning up me kitchen. I need yer help \n",
    "right now, matey!\n",
    "\"\"\"\n",
    "\n",
    "# Define the style\n",
    "style = \"American English (Formal Business Tone)\""
   ]
  },
  {
   "cell_type": "code",
   "execution_count": 36,
   "id": "ef0fd81b-bfaa-4c2c-8abb-7501bcde6e7f",
   "metadata": {},
   "outputs": [],
   "source": [
    "# Create the full prompt\n",
    "prompt = f\"\"\"Translate the following text into a style that is {style}:\n",
    "\n",
    "```{customer_email}```\n",
    "\"\"\""
   ]
  },
  {
   "cell_type": "code",
   "execution_count": 37,
   "id": "7261743c-fb25-40ef-b0da-8327f485c41e",
   "metadata": {},
   "outputs": [],
   "source": [
    "#prompt = f\"\"\"Translate the text \\\n",
    "#that is delimited by triple backticks \\\n",
    "#into a style that is {style}.\n",
    "#text: ```{customer_email}`\n",
    "#\"\"\""
   ]
  },
  {
   "cell_type": "markdown",
   "id": "ba160ef9-fad0-4e48-9767-2be7b407fe2f",
   "metadata": {},
   "source": [
    "# Output Parsers"
   ]
  },
  {
   "cell_type": "code",
   "execution_count": 38,
   "id": "56cba9cb-2647-46ed-b59e-eb44cb35a4e1",
   "metadata": {},
   "outputs": [
    {
     "name": "stdout",
     "output_type": "stream",
     "text": [
      "Translate the following text into a style that is American English (Formal Business Tone):\n",
      "\n",
      "```\n",
      "Arrr, I be fuming that me blender lid \n",
      "flew off and splattered me kitchen walls \n",
      "with smoothie! And to make matters worse, \n",
      "the warranty don't cover the cost of \n",
      "cleaning up me kitchen. I need yer help \n",
      "right now, matey!\n",
      "```\n",
      "\n",
      "Arrr, I be fuming that me blender lid flew off and splattered me kitchen walls with smoothie! And to make matters worse, the warranty don't cover the cost of cleaning up me kitchen. I need yer help right now, matey!\n"
     ]
    }
   ],
   "source": [
    "# Output Parsers\n",
    "print(prompt)\n",
    "response = llm(prompt)\n",
    "print(response)"
   ]
  },
  {
   "cell_type": "code",
   "execution_count": 28,
   "id": "1ee4091d-f051-4ef6-b9f4-59bdc0751dae",
   "metadata": {},
   "outputs": [
    {
     "name": "stderr",
     "output_type": "stream",
     "text": [
      "No model was supplied, defaulted to openai-community/gpt2 and revision 6c0e608 (https://huggingface.co/openai-community/gpt2).\n",
      "Using a pipeline without specifying a model name and revision in production is not recommended.\n",
      "Setting `pad_token_id` to `eos_token_id`:50256 for open-end generation.\n"
     ]
    },
    {
     "name": "stdout",
     "output_type": "stream",
     "text": [
      "[{'generated_text': \"Translate the text that is delimited by triple backticks into a style that is American English in a calm and respectful tone. text: ```Arrr, I be fuming that me blender lid flew off and splattered me kitchen walls with smoothie! And to make matters worse, the warranty don't cover the cost of cleaning up me kitchen. I need yer help right now, matey!```\\n\\nThis is a terrible example of how to fix a broken bottle\"}]\n"
     ]
    }
   ],
   "source": [
    "# Hugging Face Integration\n",
    "from transformers import pipeline\n",
    "\n",
    "def huggingface_completion(prompt, model_name=\"text-generation\", max_length=100, **kwargs):\n",
    "    # Load Hugging Face pipeline with max_length parameter\n",
    "    huggingface_pipeline = pipeline(model_name, max_length=max_length, **kwargs)\n",
    "    # Generate completion\n",
    "    return huggingface_pipeline(prompt)\n",
    "\n",
    "# Example usage\n",
    "completion = huggingface_completion(\"Translate the text that is delimited by triple backticks into a style that is American English in a calm and respectful tone. text: ```Arrr, I be fuming that me blender lid flew off and splattered me kitchen walls with smoothie! And to make matters worse, the warranty don't cover the cost of cleaning up me kitchen. I need yer help right now, matey!```\")\n",
    "\n",
    "print(completion)"
   ]
  }
 ],
 "metadata": {
  "kernelspec": {
   "display_name": "Python 3 (ipykernel)",
   "language": "python",
   "name": "python3"
  },
  "language_info": {
   "codemirror_mode": {
    "name": "ipython",
    "version": 3
   },
   "file_extension": ".py",
   "mimetype": "text/x-python",
   "name": "python",
   "nbconvert_exporter": "python",
   "pygments_lexer": "ipython3",
   "version": "3.11.7"
  }
 },
 "nbformat": 4,
 "nbformat_minor": 5
}
