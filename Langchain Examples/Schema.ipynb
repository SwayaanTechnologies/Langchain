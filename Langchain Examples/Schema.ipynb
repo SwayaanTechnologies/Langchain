{
 "cells": [
  {
   "cell_type": "markdown",
   "id": "079d9f0e-2c50-4288-a91b-779d038d8346",
   "metadata": {},
   "source": [
    "# Loading Environment Variable"
   ]
  },
  {
   "cell_type": "code",
   "execution_count": 6,
   "id": "03cabfc5-ba82-495c-b2ed-84640c04e6ef",
   "metadata": {},
   "outputs": [],
   "source": [
    "from secret_key import hugging_facehub_key\n",
    "import os\n",
    "os.environ['HUGGINGFACEHUB_API_TOKEN'] = hugging_facehub_key"
   ]
  },
  {
   "cell_type": "markdown",
   "id": "1ae42a3c-0e69-4624-a781-2f9dff1e4a39",
   "metadata": {},
   "source": [
    "# schema"
   ]
  },
  {
   "cell_type": "code",
   "execution_count": 7,
   "id": "a38cd32d-edc7-49c7-9c19-3e39bc96ae40",
   "metadata": {},
   "outputs": [],
   "source": [
    "from langchain.llms import HuggingFaceHub\n",
    "from langchain.schema import HumanMessage, SystemMessage"
   ]
  },
  {
   "cell_type": "code",
   "execution_count": 11,
   "id": "6ce87381-99b5-42b3-97e9-b624e2adb574",
   "metadata": {},
   "outputs": [
    {
     "name": "stderr",
     "output_type": "stream",
     "text": [
      "C:\\Users\\Dell\\anaconda3\\Lib\\site-packages\\huggingface_hub\\utils\\_deprecation.py:131: FutureWarning: 'InferenceApi' (from 'huggingface_hub.inference_api') is deprecated and will be removed from version '1.0'. `InferenceApi` client is deprecated in favor of the more feature-complete `InferenceClient`. Check out this guide to learn how to convert your script to use it: https://huggingface.co/docs/huggingface_hub/guides/inference#legacy-inferenceapi-client.\n",
      "  warnings.warn(warning_message, FutureWarning)\n"
     ]
    }
   ],
   "source": [
    "# Initialize Hugging Face model from the Hub\n",
    "chat = HuggingFaceHub(\n",
    "    repo_id=\"google/flan-t5-large\", \n",
    "    model_kwargs={\"temperature\": 0.7, \"max_length\": 512}\n",
    ")"
   ]
  },
  {
   "cell_type": "code",
   "execution_count": 13,
   "id": "81063214-e42f-4b11-95c0-be98282900d7",
   "metadata": {},
   "outputs": [],
   "source": [
    "# Create messages\n",
    "messages = [\n",
    "    SystemMessage(content=\"You are a helpful assistant.\"),\n",
    "    HumanMessage(content=\"Translate this sentence from English to Nepali. I love programming.\")\n",
    "]\n",
    "prompt = \"\\n\".join([msg.content for msg in messages])"
   ]
  },
  {
   "cell_type": "code",
   "execution_count": 14,
   "id": "6ae0e7f7-d553-46e2-8c02-905bd345eb28",
   "metadata": {},
   "outputs": [
    {
     "name": "stdout",
     "output_type": "stream",
     "text": [
      "   .\n"
     ]
    }
   ],
   "source": [
    "# Generate response for the single prompt\n",
    "response = chat.predict(prompt)\n",
    "print(response)"
   ]
  },
  {
   "cell_type": "code",
   "execution_count": 15,
   "id": "d1242bc8-981e-46f5-8694-3fe732e56e2a",
   "metadata": {},
   "outputs": [],
   "source": [
    "# Multiple sets of messages\n",
    "batch_messages = [\n",
    "    [\n",
    "        SystemMessage(content=\"You are a helpful assistant that translates English to French.\"),\n",
    "        HumanMessage(content=\"I love programming.\")\n",
    "    ],\n",
    "    [\n",
    "        SystemMessage(content=\"You are a helpful assistant that translates English to French.\"),\n",
    "        HumanMessage(content=\"I love artificial intelligence.\")\n",
    "    ],\n",
    "]\n",
    "\n",
    "# Convert each set of messages to a single string prompt\n",
    "prompts = [\"\\n\".join([msg.content for msg in messages]) for messages in batch_messages]"
   ]
  },
  {
   "cell_type": "code",
   "execution_count": 16,
   "id": "732ecb16-b3a3-4fe4-9a79-8e7d7ccd3273",
   "metadata": {},
   "outputs": [
    {
     "name": "stdout",
     "output_type": "stream",
     "text": [
      "Je l'aime de la programmation.\n",
      "Je l'aime l'intelligence artificiale.\n"
     ]
    }
   ],
   "source": [
    "# Get completions by passing in the list of string prompts\n",
    "responses = [chat(prompt) for prompt in prompts]\n",
    "\n",
    "# Print the responses\n",
    "for response in responses:\n",
    "    print(response)"
   ]
  },
  {
   "cell_type": "code",
   "execution_count": null,
   "id": "338bb933",
   "metadata": {},
   "outputs": [],
   "source": []
  }
 ],
 "metadata": {
  "kernelspec": {
   "display_name": "Python 3 (ipykernel)",
   "language": "python",
   "name": "python3"
  },
  "language_info": {
   "codemirror_mode": {
    "name": "ipython",
    "version": 3
   },
   "file_extension": ".py",
   "mimetype": "text/x-python",
   "name": "python",
   "nbconvert_exporter": "python",
   "pygments_lexer": "ipython3",
   "version": "3.11.7"
  }
 },
 "nbformat": 4,
 "nbformat_minor": 5
}
